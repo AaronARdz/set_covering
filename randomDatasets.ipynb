{
  "nbformat": 4,
  "nbformat_minor": 0,
  "metadata": {
    "colab": {
      "name": "randomDatasets.ipynb",
      "provenance": [],
      "collapsed_sections": []
    },
    "kernelspec": {
      "name": "python3",
      "display_name": "Python 3"
    },
    "language_info": {
      "name": "python"
    }
  },
  "cells": [
    {
      "cell_type": "code",
      "execution_count": 2,
      "metadata": {
        "id": "VwpGOUp3LRqY"
      },
      "outputs": [],
      "source": [
        "import numpy as np"
      ]
    },
    {
      "cell_type": "code",
      "source": [
        "def createData(number_of_subsets, columns, universe_size, rangen):\n",
        "  cost_values = np.random.randint(10, size=1)\n",
        "  subsets = np.random.randint(rangen, size=(number_of_subsets, columns))\n",
        "  album = np.random.choice(range(rangen), 20, replace=False)\n",
        "  print(f'Album Universe [{universe_size}] {album} \\n')\n",
        "  print(f'Columns [{columns}] \\nSubsets [{number_of_subsets}] \\n {subsets}: \\n')\n",
        "  print(f'Cost value for each subset \\n {cost_values} \\n')\n",
        "  print(f'Range of random generator {rangen} \\n')\n"
      ],
      "metadata": {
        "id": "obNJOP-PVyyj"
      },
      "execution_count": 42,
      "outputs": []
    },
    {
      "cell_type": "code",
      "source": [
        "## 1 step, Create columns\n",
        "## 2 create cost value\n",
        "## 3 iterate through list of columns and select random index\n",
        "## 4 save random index number in a dictionary to make sure theres no duplicates\n",
        "## 6 adjust the size of the dictionary to fit the specified album length\n",
        "def create_album(size, subset):\n",
        "  subset_values = subset.flatten()\n",
        "  subset_len = len(subset_values)\n",
        "  album = dict()\n",
        "  for i in range(size):\n",
        "    randomIndex = np.random.randint(subset_len, size=1)[0]\n",
        "    value = subset_values[randomIndex]\n",
        "    if value not in album:\n",
        "      album[value] = 1\n",
        "    else:\n",
        "      value = subset_values[randomIndex + 1]\n",
        "      album[value] = 1\n",
        "    \n",
        "  return album\n",
        "\n",
        "def create_subsets(number_of_subsets, columns, rangen):\n",
        "  subsets = np.random.randint(rangen, size=(number_of_subsets, columns))\n",
        "  return subsets\n",
        "\n",
        "def create_cost_values(number_of_subsets):\n",
        "  return np.random.rand(number_of_subsets)\n",
        "\n",
        "def define_dataset(number_of_subsets, columns, album_size, rangen):\n",
        "  subs = create_subsets(number_of_subsets, columns, rangen)\n",
        "  cost_values = create_cost_values(number_of_subsets)\n",
        "  album = create_album(album_size, subs)\n",
        "\n",
        "  # TO DO : Create logic to save file to csv using pandas\n",
        "\n",
        "  return subs, cost_values, album\n",
        "\n",
        "\n",
        "subs, cost_values, album = define_dataset(20, 5, 20, 200)\n",
        "\n",
        "print(subs)\n",
        "print('\\n')\n",
        "print(cost_values)\n",
        "print('\\n')\n",
        "print(album)"
      ],
      "metadata": {
        "colab": {
          "base_uri": "https://localhost:8080/"
        },
        "id": "KLZdSR_Dc19v",
        "outputId": "5b95ab19-0aca-453b-d526-2ff56d9977d3"
      },
      "execution_count": 48,
      "outputs": [
        {
          "output_type": "stream",
          "name": "stdout",
          "text": [
            "[[ 13  34  70 156   8]\n",
            " [ 94  24  55 120  14]\n",
            " [181  67  16  15  87]\n",
            " [195   0 137  66  55]\n",
            " [130 154  14  70   3]\n",
            " [170  93 119  80  28]\n",
            " [192  90  51  66  65]\n",
            " [ 82 145  56  14  88]\n",
            " [ 16  68  44  60  84]\n",
            " [106 116   4 109 126]\n",
            " [  7  94 125   2   3]\n",
            " [ 51 177 171 129 192]\n",
            " [ 32  28 132 137 119]\n",
            " [ 62 182  41 163  60]\n",
            " [199 194  64  39  48]\n",
            " [ 97 137  10  79   3]\n",
            " [  7  47 188  34 119]\n",
            " [  6  51 106  12 103]\n",
            " [ 41 180 116 166   3]\n",
            " [141  56 140 199 188]]\n",
            "\n",
            "\n",
            "[0.6962617  0.82188358 0.32868721 0.48433683 0.55167637 0.74764219\n",
            " 0.55729848 0.63955246 0.0296609  0.71714328 0.0903144  0.03018992\n",
            " 0.84987335 0.02988182 0.93248805 0.10458819 0.22761299 0.67010586\n",
            " 0.59274047 0.785812  ]\n",
            "\n",
            "\n",
            "{84: 1, 0: 1, 171: 1, 62: 1, 141: 1, 47: 1, 137: 1, 97: 1, 132: 1, 70: 1, 56: 1, 48: 1, 60: 1, 192: 1, 106: 1, 156: 1, 116: 1, 67: 1}\n"
          ]
        }
      ]
    },
    {
      "cell_type": "code",
      "source": [
        "## sort subsets by cost\n",
        "## asign number of album occurences in each subset\n",
        "## select which subsets have the best occurences per cost value\n",
        "## sum all costs\n",
        "\n",
        "def solve_greedy(subsets, costs, album):\n",
        "  total = 0\n",
        "  winning_list = list()\n",
        "  occurences_per_cost = dict()\n",
        "  subset_cost = list()\n",
        "\n",
        "  # create tuple array (subset, cost)\n",
        "  for i in range(len(subsets)):\n",
        "    tup = subsets[i], costs[i]\n",
        "    subset_cost.append(tup)\n",
        "\n",
        "  sorted_subsets = sorted(subset_cost, key=lambda x: x[1])\n",
        "  print(sorted_subsets)\n",
        "\n",
        "solve_greedy(subs, cost_values, album)"
      ],
      "metadata": {
        "colab": {
          "base_uri": "https://localhost:8080/"
        },
        "id": "WlgOKxThhhWz",
        "outputId": "74ab335f-206c-4268-cc39-1f09bbdbf336"
      },
      "execution_count": 49,
      "outputs": [
        {
          "output_type": "stream",
          "name": "stdout",
          "text": [
            "[(array([16, 68, 44, 60, 84]), 0.029660895517682584), (array([ 62, 182,  41, 163,  60]), 0.029881820777131085), (array([ 51, 177, 171, 129, 192]), 0.030189924561907278), (array([  7,  94, 125,   2,   3]), 0.0903144019053661), (array([ 97, 137,  10,  79,   3]), 0.10458818722192675), (array([  7,  47, 188,  34, 119]), 0.22761298551977693), (array([181,  67,  16,  15,  87]), 0.32868720764103254), (array([195,   0, 137,  66,  55]), 0.4843368270026802), (array([130, 154,  14,  70,   3]), 0.551676366740287), (array([192,  90,  51,  66,  65]), 0.5572984766146448), (array([ 41, 180, 116, 166,   3]), 0.5927404674234472), (array([ 82, 145,  56,  14,  88]), 0.639552457891749), (array([  6,  51, 106,  12, 103]), 0.6701058637108916), (array([ 13,  34,  70, 156,   8]), 0.696261704317144), (array([106, 116,   4, 109, 126]), 0.7171432818971046), (array([170,  93, 119,  80,  28]), 0.7476421857084561), (array([141,  56, 140, 199, 188]), 0.7858119958834716), (array([ 94,  24,  55, 120,  14]), 0.8218835755980849), (array([ 32,  28, 132, 137, 119]), 0.8498733513373493), (array([199, 194,  64,  39,  48]), 0.9324880515208517)]\n"
          ]
        }
      ]
    },
    {
      "cell_type": "code",
      "source": [
        ""
      ],
      "metadata": {
        "id": "aQrdenGSoa80"
      },
      "execution_count": 30,
      "outputs": []
    }
  ]
}