{
  "nbformat": 4,
  "nbformat_minor": 0,
  "metadata": {
    "colab": {
      "name": "randomDatasets.ipynb",
      "provenance": [],
      "collapsed_sections": [],
      "authorship_tag": "ABX9TyMaKwauiaCZlloUbii+exgD",
      "include_colab_link": true
    },
    "kernelspec": {
      "name": "python3",
      "display_name": "Python 3"
    },
    "language_info": {
      "name": "python"
    }
  },
  "cells": [
    {
      "cell_type": "markdown",
      "metadata": {
        "id": "view-in-github",
        "colab_type": "text"
      },
      "source": [
        "<a href=\"https://colab.research.google.com/github/AaronARdz/set_covering/blob/main/randomDatasets.ipynb\" target=\"_parent\"><img src=\"https://colab.research.google.com/assets/colab-badge.svg\" alt=\"Open In Colab\"/></a>"
      ]
    },
    {
      "cell_type": "code",
      "execution_count": 2,
      "metadata": {
        "id": "VwpGOUp3LRqY"
      },
      "outputs": [],
      "source": [
        "import numpy as np"
      ]
    },
    {
      "cell_type": "code",
      "source": [
        "def createData(number_of_subsets, columns, universe_size, rangen):\n",
        "  cost_values = np.random.randint(10, size=1)\n",
        "  subsets = np.random.randint(rangen, size=(number_of_subsets, columns))\n",
        "  album = np.random.choice(range(rangen), 20, replace=False)\n",
        "  print(f'Album Universe [{universe_size}] {album} \\n')\n",
        "  print(f'Columns [{columns}] \\nSubsets [{number_of_subsets}] \\n {subsets}: \\n')\n",
        "  print(f'Cost value for each subset \\n {cost_values} \\n')\n",
        "  print(f'Range of random generator {rangen} \\n')\n"
      ],
      "metadata": {
        "id": "obNJOP-PVyyj"
      },
      "execution_count": 42,
      "outputs": []
    },
    {
      "cell_type": "code",
      "source": [
        "## 1 step, Create columns\n",
        "## 2 create cost value\n",
        "## 3 iterate through list of columns and select random index\n",
        "## 4 save random index number in a dictionary to make sure theres no duplicates\n",
        "## 6 adjust the size of the dictionary to fit the specified album length\n",
        "def create_album(size, subset):\n",
        "  subset_values = subset.flatten()\n",
        "  subset_len = len(subset_values)\n",
        "  album = dict()\n",
        "  for i in range(size):\n",
        "    randomIndex = np.random.randint(subset_len, size=1)[0]\n",
        "    value = subset_values[randomIndex]\n",
        "    if value not in album:\n",
        "      album[value] = 0\n",
        "    else:\n",
        "      value = subset_values[randomIndex + 1]\n",
        "      album[value] = 0\n",
        "    \n",
        "  return album\n",
        "\n",
        "def create_subsets(number_of_subsets, columns, rangen):\n",
        "  subsets = np.random.randint(rangen, size=(number_of_subsets, columns))\n",
        "  return subsets\n",
        "\n",
        "def create_cost_values(number_of_subsets):\n",
        "  return np.random.rand(number_of_subsets)\n",
        "\n",
        "def define_dataset(number_of_subsets, columns, album_size, rangen):\n",
        "  subs = create_subsets(number_of_subsets, columns, rangen)\n",
        "  cost_values = create_cost_values(number_of_subsets)\n",
        "  album = create_album(album_size, subs)\n",
        "\n",
        "  # TO DO : Create logic to save file to csv using pandas\n",
        "\n",
        "  return subs, cost_values, album\n",
        "\n",
        "\n",
        "subs, cost_values, album = define_dataset(50, 10, 50, 100)\n",
        "\n",
        "print(subs)\n",
        "print('\\n')\n",
        "print(cost_values)\n",
        "print('\\n')\n",
        "print(album)"
      ],
      "metadata": {
        "colab": {
          "base_uri": "https://localhost:8080/"
        },
        "id": "KLZdSR_Dc19v",
        "outputId": "1c4abf3d-edff-4ab4-821d-beac028fa83d"
      },
      "execution_count": 178,
      "outputs": [
        {
          "output_type": "stream",
          "name": "stdout",
          "text": [
            "[[86 77 31  0 73 11 26 91 88 36]\n",
            " [58  0 76 79 49 49 73 29 47 24]\n",
            " [ 3 36 50 25  6 92 99 35 45 46]\n",
            " [25 40 53 39  4 61 61 28 15 30]\n",
            " [73 66 13  0 58 45 31 74 73 11]\n",
            " [27 58 97 43 25 94 18 28 70 66]\n",
            " [84 73  1 15 86 39 65 43 35 81]\n",
            " [27  2 83 90 72 51 88 20 96 30]\n",
            " [66 68 42 13 98 41 39 92 74 85]\n",
            " [48 87 23 40 57 57 21 45 53  6]\n",
            " [98 33 25 44 78 47 91 37 93 83]\n",
            " [93 91 38 90 40  2 87 18 16 15]\n",
            " [70 83 10 29 28 83 43 11 54 41]\n",
            " [24 63 47 45 11 51 42 93 21 51]\n",
            " [ 8 18 67 13 72 58 38 67 45 52]\n",
            " [21 54 38 29 66 95 59 40 50 76]\n",
            " [73 17 59 69 90 85 78 10 57  6]\n",
            " [30 15  8 54 89 85 17 29 54 52]\n",
            " [33 85 16 75 22 82 25 58 65 95]\n",
            " [13 49 30 60 75 39 88 43 79 33]\n",
            " [20 51 28 81 99 68 28 39 21 60]\n",
            " [32 43 18 83 34 72 93 85 96 62]\n",
            " [38 71 46 98  6 30 45 10 99 87]\n",
            " [99 12 32 98 18 55 81 54 13 73]\n",
            " [67 31 67 86 93 95 23 50 60 13]\n",
            " [78  3 35  3 93 54  6  8 58 16]\n",
            " [18 50 60 46  3 73 99 18 19 92]\n",
            " [51  6 61 95 12 49 19 46 75 56]\n",
            " [62 17 70 86 23 85  7 62 77 37]\n",
            " [26 45 11  8 54  3 25 99 81  0]\n",
            " [91 97 66 24 87 44 37 23 48 14]\n",
            " [97  9 65 96 40 60 98 74 46 48]\n",
            " [77 36 25 91 86 16 15 77 61 69]\n",
            " [65 45 60  4  4 33 24 26 64 24]\n",
            " [ 0 55 44 93 42 52 74 19  2 29]\n",
            " [ 7 77 74 89 26 91 52 44 11 29]\n",
            " [19 81 41 22 98 31 96 86 14 63]\n",
            " [65 39 66 95  4 24 51 61 60 86]\n",
            " [94 94  3 32 99 64 66 17 75 29]\n",
            " [32 58 45 79 72 81 43 98  1 31]\n",
            " [17 83 14 51 21 82 19 45  0 82]\n",
            " [82 49 44 91 30 24 40 29 72 99]\n",
            " [58 32 48 23  4 82 56 10 10 42]\n",
            " [28 48  2 10 40 89  2 76 44 27]\n",
            " [46 41 13  8 95 54  0 42 14 29]\n",
            " [78 31 25 70 37 80 58 30 77 77]\n",
            " [61 88 44 44 70 26 44 37 63 15]\n",
            " [59 14 95 28 76  9 62 69 57 13]\n",
            " [46 49 44 62 49  3 58 67 35 53]\n",
            " [11 64 66 33 91 92 12  4 59  3]]\n",
            "\n",
            "\n",
            "[0.8288836  0.58139216 0.64597133 0.20383323 0.99406309 0.53335053\n",
            " 0.30142403 0.10115662 0.19181579 0.2465871  0.74063507 0.39596339\n",
            " 0.81556276 0.50221318 0.33782434 0.51342996 0.4607258  0.01496029\n",
            " 0.34222865 0.09000724 0.45154871 0.52696889 0.69917466 0.29520644\n",
            " 0.25146011 0.2423977  0.46777677 0.78327681 0.56262656 0.05961243\n",
            " 0.06741923 0.68357965 0.89816847 0.60301543 0.25312554 0.25946487\n",
            " 0.99105223 0.67788327 0.52275643 0.53238126 0.26064458 0.89150739\n",
            " 0.16117656 0.99069341 0.90435951 0.54587704 0.93861776 0.3831955\n",
            " 0.8338258  0.42750298]\n",
            "\n",
            "\n",
            "{82: 0, 93: 0, 6: 0, 99: 0, 0: 0, 81: 0, 60: 0, 14: 0, 28: 0, 9: 0, 62: 0, 59: 0, 33: 0, 74: 0, 86: 0, 43: 0, 21: 0, 17: 0, 15: 0, 12: 0, 36: 0, 70: 0, 77: 0, 54: 0, 49: 0, 3: 0, 45: 0, 51: 0, 44: 0, 4: 0, 91: 0, 18: 0, 76: 0, 75: 0, 7: 0, 25: 0, 58: 0, 98: 0, 29: 0, 61: 0, 95: 0, 20: 0, 87: 0}\n"
          ]
        }
      ]
    },
    {
      "cell_type": "code",
      "source": [
        "## sort subsets by cost\n",
        "## asign number of album occurences in each subset\n",
        "## select which subsets have the best occurences per cost value\n",
        "## sum all costs\n",
        "\n",
        "def solve_greedy(subsets, costs, album_universe):\n",
        "  total = 0\n",
        "  winning_list = list()\n",
        "  subset_cost = list()\n",
        "  covered_album = set()\n",
        "  covered_subsets = set()\n",
        "\n",
        "  # create tuple array (subset, cost, index)\n",
        "  for i in range(len(subsets)):\n",
        "    tup = subsets[i], costs[i], i\n",
        "    subset_cost.append(tup)\n",
        "  \n",
        "  # sort tuples by cost value\n",
        "  sorted_subsets = sorted(subset_cost, key=lambda x: x[1])\n",
        "\n",
        "  # initialize dictionary with values 0\n",
        "  occurences_per_index = dict.fromkeys(range(len(costs)),0)\n",
        "\n",
        "  # select subsets and fill album\n",
        "  for subset in sorted_subsets:\n",
        "    index = subset[2]\n",
        "    if len(covered_album) == len(costs):\n",
        "      break\n",
        "    for j in subset[0]:\n",
        "      if j in album_universe and album_universe.get(j) != 1:\n",
        "        occurences_per_index[index] += 1\n",
        "        album_universe[j] = 1\n",
        "        covered_album.add(j)\n",
        "        covered_subsets.add(index)\n",
        "\n",
        "\n",
        "  #compute cost \n",
        "  for i in covered_subsets:\n",
        "    total += costs[i]\n",
        "    winning_list.append(subsets[i])\n",
        "    print(subsets[i], i)\n",
        "\n",
        "  print(sorted(occurences_per_index.items(),  key=lambda x: x[1], reverse=True))\n",
        "\n",
        "  return winning_list, total, album_universe\n"
      ],
      "metadata": {
        "id": "WlgOKxThhhWz"
      },
      "execution_count": 179,
      "outputs": []
    },
    {
      "cell_type": "code",
      "source": [
        "lst, tot , univ = solve_greedy(subs, cost_values, album)\n",
        "\n",
        "print(lst)\n",
        "print(tot)\n",
        "print(univ)"
      ],
      "metadata": {
        "colab": {
          "base_uri": "https://localhost:8080/"
        },
        "id": "aQrdenGSoa80",
        "outputId": "628121ba-9560-4ce3-9136-67853224f8b4"
      },
      "execution_count": 180,
      "outputs": [
        {
          "output_type": "stream",
          "name": "stdout",
          "text": [
            "[ 3 36 50 25  6 92 99 35 45 46] 2\n",
            "[25 40 53 39  4 61 61 28 15 30] 3\n",
            "[ 7 77 74 89 26 91 52 44 11 29] 35\n",
            "[27 58 97 43 25 94 18 28 70 66] 5\n",
            "[27  2 83 90 72 51 88 20 96 30] 7\n",
            "[66 68 42 13 98 41 39 92 74 85] 8\n",
            "[48 87 23 40 57 57 21 45 53  6] 9\n",
            "[58 32 48 23  4 82 56 10 10 42] 42\n",
            "[59 14 95 28 76  9 62 69 57 13] 47\n",
            "[30 15  8 54 89 85 17 29 54 52] 17\n",
            "[13 49 30 60 75 39 88 43 79 33] 19\n",
            "[99 12 32 98 18 55 81 54 13 73] 23\n",
            "[67 31 67 86 93 95 23 50 60 13] 24\n",
            "[78  3 35  3 93 54  6  8 58 16] 25\n",
            "[26 45 11  8 54  3 25 99 81  0] 29\n",
            "[91 97 66 24 87 44 37 23 48 14] 30\n",
            "[(29, 6), (19, 5), (17, 4), (30, 4), (47, 4), (42, 3), (3, 2), (7, 2), (8, 2), (23, 2), (24, 2), (25, 2), (35, 2), (2, 1), (5, 1), (9, 1), (0, 0), (1, 0), (4, 0), (6, 0), (10, 0), (11, 0), (12, 0), (13, 0), (14, 0), (15, 0), (16, 0), (18, 0), (20, 0), (21, 0), (22, 0), (26, 0), (27, 0), (28, 0), (31, 0), (32, 0), (33, 0), (34, 0), (36, 0), (37, 0), (38, 0), (39, 0), (40, 0), (41, 0), (43, 0), (44, 0), (45, 0), (46, 0), (48, 0), (49, 0)]\n",
            "[array([ 3, 36, 50, 25,  6, 92, 99, 35, 45, 46]), array([25, 40, 53, 39,  4, 61, 61, 28, 15, 30]), array([ 7, 77, 74, 89, 26, 91, 52, 44, 11, 29]), array([27, 58, 97, 43, 25, 94, 18, 28, 70, 66]), array([27,  2, 83, 90, 72, 51, 88, 20, 96, 30]), array([66, 68, 42, 13, 98, 41, 39, 92, 74, 85]), array([48, 87, 23, 40, 57, 57, 21, 45, 53,  6]), array([58, 32, 48, 23,  4, 82, 56, 10, 10, 42]), array([59, 14, 95, 28, 76,  9, 62, 69, 57, 13]), array([30, 15,  8, 54, 89, 85, 17, 29, 54, 52]), array([13, 49, 30, 60, 75, 39, 88, 43, 79, 33]), array([99, 12, 32, 98, 18, 55, 81, 54, 13, 73]), array([67, 31, 67, 86, 93, 95, 23, 50, 60, 13]), array([78,  3, 35,  3, 93, 54,  6,  8, 58, 16]), array([26, 45, 11,  8, 54,  3, 25, 99, 81,  0]), array([91, 97, 66, 24, 87, 44, 37, 23, 48, 14])]\n",
            "3.7476149508421837\n",
            "{82: 1, 93: 1, 6: 1, 99: 1, 0: 1, 81: 1, 60: 1, 14: 1, 28: 1, 9: 1, 62: 1, 59: 1, 33: 1, 74: 1, 86: 1, 43: 1, 21: 1, 17: 1, 15: 1, 12: 1, 36: 1, 70: 1, 77: 1, 54: 1, 49: 1, 3: 1, 45: 1, 51: 1, 44: 1, 4: 1, 91: 1, 18: 1, 76: 1, 75: 1, 7: 1, 25: 1, 58: 1, 98: 1, 29: 1, 61: 1, 95: 1, 20: 1, 87: 1}\n"
          ]
        }
      ]
    },
    {
      "cell_type": "code",
      "source": [
        ""
      ],
      "metadata": {
        "id": "w2QfdfNrhUTz"
      },
      "execution_count": null,
      "outputs": []
    }
  ]
}